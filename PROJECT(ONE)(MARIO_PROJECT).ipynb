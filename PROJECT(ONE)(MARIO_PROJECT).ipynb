{
 "cells": [
  {
   "cell_type": "code",
   "execution_count": 1,
   "id": "04f81d65",
   "metadata": {},
   "outputs": [
    {
     "name": "stdout",
     "output_type": "stream",
     "text": [
      "Punched_Point(5) :5\n",
      "Kicked_Point(10) :15\n",
      "Kicked_Point(10) :25\n",
      "Punched_Point(5) :30\n",
      "life :2\n",
      "Punched_Point(5) :35\n",
      "life :1\n",
      "Punched_Point(5) :40\n",
      "life :0\n",
      "Game Is Over\n"
     ]
    }
   ],
   "source": [
    "class character():\n",
    "    def __init__(self,life=3,score=0):\n",
    "        self.life=life\n",
    "        self.score=score\n",
    "\n",
    "    def kicked(self):\n",
    "        self.score=self.score+10\n",
    "        print(f\"Kicked_Point(10) :{self.score}\")\n",
    "\n",
    "    def punched(self):\n",
    "        self.score=self.score+5\n",
    "        print(f\"Punched_Point(5) :{self.score}\")\n",
    "\n",
    "    def stabbed(self):\n",
    "        self.life=self.life-1\n",
    "        print(f\"life :{self.life}\")\n",
    "\n",
    "    def displaylife(self):\n",
    "        print(f\"life :{self.life}\")\n",
    "\n",
    "    def displayscore(self):\n",
    "        print(f\"score :{self.score}\")\n",
    "\n",
    "Mario=character()\n",
    "Mario.punched()\n",
    "Mario.kicked()\n",
    "Mario.kicked()\n",
    "Mario.punched()\n",
    "Mario.stabbed()\n",
    "Mario.punched()\n",
    "Mario.stabbed()\n",
    "Mario.punched()\n",
    "Mario.stabbed()\n",
    "\n",
    "Life=Mario.life\n",
    "if(Life==0):\n",
    "    print(\"Game Is Over\")\n",
    "else:\n",
    "    print(\"Welcome To Level One\")"
   ]
  },
  {
   "cell_type": "code",
   "execution_count": null,
   "id": "55ac9cc7",
   "metadata": {},
   "outputs": [],
   "source": []
  }
 ],
 "metadata": {
  "kernelspec": {
   "display_name": "Python 3 (ipykernel)",
   "language": "python",
   "name": "python3"
  },
  "language_info": {
   "codemirror_mode": {
    "name": "ipython",
    "version": 3
   },
   "file_extension": ".py",
   "mimetype": "text/x-python",
   "name": "python",
   "nbconvert_exporter": "python",
   "pygments_lexer": "ipython3",
   "version": "3.11.4"
  }
 },
 "nbformat": 4,
 "nbformat_minor": 5
}
